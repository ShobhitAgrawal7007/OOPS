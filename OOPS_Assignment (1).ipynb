{
  "nbformat": 4,
  "nbformat_minor": 0,
  "metadata": {
    "colab": {
      "provenance": []
    },
    "kernelspec": {
      "name": "python3",
      "display_name": "Python 3"
    },
    "language_info": {
      "name": "python"
    }
  },
  "cells": [
    {
      "cell_type": "markdown",
      "source": [
        "# OOPS Assignment(Theory)"
      ],
      "metadata": {
        "id": "Ydzda0mC2cNM"
      }
    },
    {
      "cell_type": "markdown",
      "source": [
        "1. What is Object-Oriented Programming (OOP)?"
      ],
      "metadata": {
        "id": "0mUwEt7T2P1P"
      }
    },
    {
      "cell_type": "markdown",
      "source": [
        "Object-oriented programming (OOP) is a programming paradigm that uses \"objects\" and their interactions to design applications and computer programs. It's a way of structuring code by grouping data and methods into reusable, self-contained units called objects, which can then be used to create instances of a class."
      ],
      "metadata": {
        "id": "xYv2rUqv2Z_o"
      }
    },
    {
      "cell_type": "markdown",
      "source": [
        "2. What is a class in OOP?"
      ],
      "metadata": {
        "id": "TPZKknHX252P"
      }
    },
    {
      "cell_type": "markdown",
      "source": [
        "In Object-Oriented Programming (OOP), a class is a blueprint or template for creating objects. It defines the properties (attributes) and behaviors (methods) that objects of that class will have. Just like a recipe for creating a specific type of object."
      ],
      "metadata": {
        "id": "hHpodz3M3CQm"
      }
    },
    {
      "cell_type": "markdown",
      "source": [
        "3. What is an object in OOP?"
      ],
      "metadata": {
        "id": "bO0yynzZ3lzT"
      }
    },
    {
      "cell_type": "markdown",
      "source": [
        "In Object-Oriented Programming (OOP), an object is a fundamental unit that represents a real-world entity or concept. It's an instance of a class, encapsulating both data (attributes) and behavior (methods). Objects interact with each other by sending and receiving messages, triggering methods and potentially modifying their internal state."
      ],
      "metadata": {
        "id": "UqPiAocG3uF1"
      }
    },
    {
      "cell_type": "markdown",
      "source": [
        "4. What is the difference between abstraction and encapsulation?"
      ],
      "metadata": {
        "id": "XHou2CTr4BI3"
      }
    },
    {
      "cell_type": "markdown",
      "source": [
        "Abstraction focuses on hiding complex implementation details and showing only the essential features to the user, while encapsulation bundles data and methods into a single unit (like a class) and controls their access. In essence, abstraction is about what something does, and encapsulation is about how it's done and how it's accessed."
      ],
      "metadata": {
        "id": "kSNA-eN54KkQ"
      }
    },
    {
      "cell_type": "markdown",
      "source": [
        "5. What are dunder methods in Python?"
      ],
      "metadata": {
        "id": "jijoesME4rJL"
      }
    },
    {
      "cell_type": "markdown",
      "source": [
        "Dunder methods, also known as magic methods, are special methods in Python that start and end with double underscores (e.g., __init__, __str__, __len__). They are used to implement special behaviors and allow custom objects to interact with Python's built-in functions and operators, enabling operator overloading and other customizations."
      ],
      "metadata": {
        "id": "YU-GhDux4ynk"
      }
    },
    {
      "cell_type": "markdown",
      "source": [
        "6. Explain the concept of inheritance in OOP?"
      ],
      "metadata": {
        "id": "OOcWTQkt5Mij"
      }
    },
    {
      "cell_type": "markdown",
      "source": [
        "In Object-Oriented Programming (OOP), inheritance is a mechanism that allows a class (the child or subclass) to inherit properties and methods from another class (the parent or superclass). This enables code reusability and a hierarchical organization of classes, fostering a more structured and modular design."
      ],
      "metadata": {
        "id": "SRpT6p4J5YvK"
      }
    },
    {
      "cell_type": "markdown",
      "source": [
        "7. What is polymorphism in OOP?"
      ],
      "metadata": {
        "id": "ADVc1u0P5nh8"
      }
    },
    {
      "cell_type": "markdown",
      "source": [
        "In Object-Oriented Programming (OOP), polymorphism allows objects of different classes to be treated as objects of a common superclass, enabling them to respond differently to the same method call. This means you can use a single interface (method name) to interact with multiple objects, each of which might implement the method in a unique way."
      ],
      "metadata": {
        "id": "hEyoEyf65vGX"
      }
    },
    {
      "cell_type": "markdown",
      "source": [
        "8. How is encapsulation achieved in Python?"
      ],
      "metadata": {
        "id": "Fir0MNYZ6Myi"
      }
    },
    {
      "cell_type": "markdown",
      "source": [
        "Encapsulation in Python is achieved by bundling data (attributes) and methods that operate on that data within a class, and controlling access to the internal state of the objects. Although Python does not have strict access modifiers like public, private, and protected, it uses naming conventions and programming practices to achieve encapsulation."
      ],
      "metadata": {
        "id": "M3ku7c-k6k19"
      }
    },
    {
      "cell_type": "markdown",
      "source": [
        "9. What is a constructor in Python?"
      ],
      "metadata": {
        "id": "kgqfGay36vIp"
      }
    },
    {
      "cell_type": "markdown",
      "source": [
        "A constructor in Python is a special method used to initialize objects of a class. It is automatically called when an object is created, setting up the initial state of the object by assigning values to its attributes."
      ],
      "metadata": {
        "id": "jwHFfLUZ61s3"
      }
    },
    {
      "cell_type": "markdown",
      "source": [
        "10. What are class and static methods in Python?\n"
      ],
      "metadata": {
        "id": "Sjwq7z4v7Aqh"
      }
    },
    {
      "cell_type": "markdown",
      "source": [
        "The information about class and static methods in Python are:\n",
        "\n",
        "Class Methods:\n",
        "\n",
        "1. Class methods are bound to the class and not the instance of the class.\n",
        "2. They receive the class itself as the first argument, conventionally named cls.\n",
        "3. Class methods are defined using the @classmethod decorator.\n",
        "4. They can access and modify class-level attributes.\n",
        "5. Common use cases include factory methods, which create instances of the class, or operations that involve shared data.\n",
        "\n",
        "Static Methods:\n",
        "\n",
        "1. Static methods are also bound to the class, but they do not receive the class or instance as an argument.\n",
        "2. They are defined using the @staticmethod decorator.\n",
        "3. Static methods cannot access or modify class-level or instance-level attributes.\n",
        "4. They are essentially utility functions that are related to the class but do not depend on its state.\n",
        "5. Static methods are used for functions that don't need access to the class or instance data."
      ],
      "metadata": {
        "id": "1NDBrxCs7WhV"
      }
    },
    {
      "cell_type": "markdown",
      "source": [
        "11. What is method overloading in Python?"
      ],
      "metadata": {
        "id": "UMktbHaB8BZx"
      }
    },
    {
      "cell_type": "markdown",
      "source": [
        "Method overloading in Python refers to the ability to define multiple methods with the same name within a class, but with different parameters. However, Python does not support method overloading in the same way as some other languages like Java or C++. Instead, Python achieves a similar effect through flexible argument handling."
      ],
      "metadata": {
        "id": "TtGdd34f8J0r"
      }
    },
    {
      "cell_type": "markdown",
      "source": [
        "12. What is method overriding in OOP?"
      ],
      "metadata": {
        "id": "yd4EZ4Yx8eFG"
      }
    },
    {
      "cell_type": "markdown",
      "source": [
        "In Object-Oriented Programming (OOP), method overriding is a mechanism where a subclass provides a specific implementation of a method that is already defined in its superclass or parent class. This allows subclasses to specialize the behavior of inherited methods while maintaining the same method signature (name and parameters) as the superclass method. Method overriding is a form of polymorphism, enabling runtime determination of which method implementation to execute based on the object's type."
      ],
      "metadata": {
        "id": "_H1H0rVk8jzG"
      }
    },
    {
      "cell_type": "markdown",
      "source": [
        "13. What is a property decorator in Python?"
      ],
      "metadata": {
        "id": "C5Wt4prr88DC"
      }
    },
    {
      "cell_type": "markdown",
      "source": [
        "In Python, a property decorator is a way to manage class attributes, allowing you to control how they are accessed, modified, or deleted. It's a built-in feature that uses the @property decorator, often in conjunction with @<attribute>.setter and @<attribute>.deleter."
      ],
      "metadata": {
        "id": "z0xzPnVm9EWT"
      }
    },
    {
      "cell_type": "markdown",
      "source": [
        "14. Why is polymorphism important in OOP?"
      ],
      "metadata": {
        "id": "tdpJeflE9VOX"
      }
    },
    {
      "cell_type": "markdown",
      "source": [
        "Polymorphism is crucial in Object-Oriented Programming (OOP) because it enables code reuse, flexibility, and extensibility. It allows objects of different classes to be treated as objects of a common type, simplifying code and making it easier to adapt to new situations.\n",
        "\n",
        "Why polymorphism is important:\n",
        "\n",
        "1. Code Reusability:\n",
        "Polymorphism allows you to use the same method name for different classes, reducing redundancy and promoting code reuse.\n",
        "2. Flexibility and Adaptability:\n",
        "It enables you to write generic code that can work with multiple types of objects without needing to know their specific classes, making your code more flexible and adaptable to changing requirements.\n",
        "3. Improved Readability:\n",
        "By using a single method name for different actions, polymorphism can improve the readability and maintainability of your code.\n",
        "4. Abstraction:\n",
        "Polymorphism allows you to work at a higher level of abstraction, dealing with objects of a common type without needing to know their specific implementation details."
      ],
      "metadata": {
        "id": "1PSW1aoI9b23"
      }
    },
    {
      "cell_type": "markdown",
      "source": [
        "15. What is an abstract class in Python?"
      ],
      "metadata": {
        "id": "cqlwjNuC-RCP"
      }
    },
    {
      "cell_type": "markdown",
      "source": [
        "An abstract class in Python is a class that cannot be instantiated directly. It serves as a blueprint for other classes, defining methods that must be implemented by its subclasses. These methods are known as abstract methods and do not have a concrete implementation in the abstract class."
      ],
      "metadata": {
        "id": "dt3n7N58-h_Z"
      }
    },
    {
      "cell_type": "markdown",
      "source": [
        "16. What are the advantages of OOP?"
      ],
      "metadata": {
        "id": "y8YaTla0-4Wj"
      }
    },
    {
      "cell_type": "markdown",
      "source": [
        "Object-oriented programming (OOP) offers numerous advantages that make it a popular choice for software development. These benefits include improved code organization, reusability, and maintainability, as well as enhanced security and scalability. OOP promotes a modular and structured approach to problem-solving, making it easier to debug, modify, and extend software.\n",
        "\n",
        "The key advantages of OOPS are:\n",
        "\n",
        "1. Modularity and Organization:\n",
        "\n",
        "(A). OOP breaks down complex systems into smaller, self-contained modules called objects, each with its own data and behavior.\n",
        "\n",
        "(B). This modularity makes code easier to understand, maintain, and debug.\n",
        "\n",
        "(C). Encapsulation, a core principle of OOP, hides internal implementation details and provides a clear interface, further simplifying the code.\n",
        "\n",
        "2. Reusability and Inheritance:\n",
        "\n",
        "(A). OOP allows developers to create reusable code components (classes) that can be inherited by other classes.\n",
        "\n",
        "(B). Inheritance enables the creation of specialized classes (child classes) that inherit properties and behaviors from their parent classes, reducing code duplication and promoting efficiency.\n",
        "\n",
        "3. Enhanced Problem-Solving:\n",
        "\n",
        "(A). OOP aligns well with real-world problem-solving, allowing developers to model complex systems and interactions more naturally.\n",
        "\n",
        "(B). This structured approach makes it easier to break down problems into smaller, manageable parts, leading to more efficient solutions.\n",
        "\n",
        "4. Improved Security:\n",
        "\n",
        "(A). Encapsulation and abstraction, key OOP principles, help to protect data and code from unauthorized access, enhancing security.\n",
        "\n",
        "(B). By limiting access to internal implementation details, OOP minimizes the risk of errors and vulnerabilities.\n",
        "\n",
        "5. Easier Debugging and Troubleshooting:\n",
        "\n",
        "(A). OOP's modularity and encapsulation make it easier to pinpoint errors and isolate problems within specific objects.\n",
        "\n",
        "(B). This targeted approach simplifies debugging and reduces the time required to fix issues.\n",
        "\n",
        "\n",
        "\n"
      ],
      "metadata": {
        "id": "DL8_cRCB_dQB"
      }
    },
    {
      "cell_type": "markdown",
      "source": [
        "17. What is the difference between a class variable and an instance variable?\n"
      ],
      "metadata": {
        "id": "oBWVT9qWB9wx"
      }
    },
    {
      "cell_type": "markdown",
      "source": [
        "Class variables are shared by all instances (objects) of a class, while instance variables are unique to each instance.\n",
        "\n",
        "Difference Between:\n",
        "\n",
        "1. Class Variables (Static Variables):\n",
        "\n",
        "(A)Exist at the class level, not tied to a specific object.\n",
        "\n",
        "(B)Shared by all instances of the class.\n",
        "\n",
        "(C)Only one copy of the variable exists for the entire class.\n",
        "\n",
        "(D)Accessed using the class name (e.g., ClassName.variableName).\n",
        "\n",
        "2. Instance Variables (Non-Static Variables):\n",
        "\n",
        "(A)Exist at the object level.\n",
        "\n",
        "(B)Each instance of the class has its own copy of the instance variable.\n",
        "\n",
        "(C)Accessed using object references (e.g., objectName.variableName)."
      ],
      "metadata": {
        "id": "wjCoZET0CW3K"
      }
    },
    {
      "cell_type": "markdown",
      "source": [
        "18. What is multiple inheritance in Python?"
      ],
      "metadata": {
        "id": "FX1DbGn7DE15"
      }
    },
    {
      "cell_type": "markdown",
      "source": [
        "Multiple inheritance in Python is a feature that allows a class to inherit attributes and methods from multiple parent classes. This enables the creation of complex class hierarchies and promotes code reuse by combining functionalities from different sources.\n",
        "\n",
        "Multiple inheritance in python are:\n",
        "\n",
        "1. Class Hierarchy:\n",
        "Multiple inheritance allows a class to inherit from multiple parent classes, creating complex relationships between classes.\n",
        "2. Code Reusability:\n",
        "It promotes code reuse by combining functionalities from different parent classes into a single child class.\n",
        "3. Method Resolution Order (MRO):\n",
        "When a child class inherits methods with the same name from multiple parents, Python uses MRO to determine which method to call. The MRO is calculated using the C3 linearization algorithm, ensuring a consistent and predictable order.\n",
        "4. Diamond Problem:\n",
        "A common issue in multiple inheritance is the \"diamond problem,\" where a class inherits from two classes that share a common ancestor. This can lead to ambiguity when calling methods from the common ancestor. Python's MRO helps resolve this issue by defining a clear order of inheritance."
      ],
      "metadata": {
        "id": "dTFoMdBHDMwD"
      }
    },
    {
      "cell_type": "markdown",
      "source": [
        "19. Explain the purpose of ‘’__str__’ and ‘__repr__’ ‘ methods in Python?"
      ],
      "metadata": {
        "id": "HkQljAirD-XE"
      }
    },
    {
      "cell_type": "markdown",
      "source": [
        "In Python, the __str__ and __repr__ methods are used to provide string representations of objects. While both serve this purpose, they are intended for different audiences and use cases.\n",
        "\n",
        "1. __str__ Method:\n",
        "\n",
        "(A).The __str__ method is designed to return a human-readable, or informal, string representation of an object.\n",
        "\n",
        "(B).It is intended for end-users and is called by the built-in print() function and the str() function.\n",
        "\n",
        "(C).The string returned should be easily understandable and focused on conveying the essential information about the object.\n",
        "\n",
        "(D).If the __str__ method is not defined for a class, Python will fall back to using the __repr__ method.\n",
        "\n",
        "2. __repr__ Method:\n",
        "\n",
        "(A).The __repr__ method is designed to return a more informative, or official, string representation of an object.\n",
        "\n",
        "(B).It is intended for developers and is called by the built-in repr() function and when an object is displayed in the interactive interpreter.\n",
        "\n",
        "(C).The string returned should be unambiguous and, ideally, should be a valid Python expression that can be used to recreate the object using the eval() function.\n",
        "\n",
        "(D).This method is particularly useful for debugging and logging, as it provides a clear view of the object's internal state.\n",
        "\n"
      ],
      "metadata": {
        "id": "ZHayvSYzEHsk"
      }
    },
    {
      "cell_type": "markdown",
      "source": [
        "20. What is the significance of the ‘super()’ function in Python?"
      ],
      "metadata": {
        "id": "DRP8JgI0GBd1"
      }
    },
    {
      "cell_type": "markdown",
      "source": [
        "The super() function in Python is used to call methods from a parent class within a child class.\n",
        "\n",
        "Breakdown of its significance:\n",
        "\n",
        "1. Method Overriding and Extension:\n",
        "\n",
        "(A).When a child class defines a method with the same name as a method in its parent class, it is said to be overriding the parent's method.\n",
        "\n",
        "(B).super() allows the child class to call the overridden method in the parent class, enabling the child to extend the functionality of the parent method while adding its own specific behavior.\n",
        "\n",
        "2. Initialization of Parent Class Attributes:\n",
        "\n",
        "(A).It is commonly used in the __init__() method of a child class to initialize attributes inherited from the parent class.\n",
        "\n",
        "(B).By calling the parent's __init__() method using super(), the child ensures that the parent class's initialization logic is executed before the child's own initialization.\n",
        "\n",
        "3. Avoiding Explicit Parent Class References:\n",
        "\n",
        "(A).super() avoids the need to explicitly name the parent class, which can make code more flexible and easier to maintain.\n",
        "\n",
        "(B).If the inheritance hierarchy changes, the code using super() does not need to be updated as long as the relationship between classes remains the same.\n",
        "\n",
        "4. Method Resolution Order (MRO):\n",
        "\n",
        "(A).In cases of multiple inheritance, super() uses the MRO to determine the order in which methods are called from different parent classes.\n",
        "\n",
        "(B).This ensures that methods are called in a consistent and predictable manner, following the order of resolution specified by the classes involved.\n",
        "\n",
        "5. Forward Compatibility:\n",
        "\n",
        "(A).super() provides a layer of indirection, which makes the code more forward-compatible.\n",
        "\n",
        "(B).This means that the code is less likely to break if the inheritance hierarchy is modified in the future."
      ],
      "metadata": {
        "id": "cNZZ0KD2GKD9"
      }
    },
    {
      "cell_type": "markdown",
      "source": [
        "21. What is the significance of the __del__ method in Python?"
      ],
      "metadata": {
        "id": "tsqwK93bHeGS"
      }
    },
    {
      "cell_type": "markdown",
      "source": [
        "The __del__ method in Python is a special method, also known as a destructor. It is automatically called when an object is about to be destroyed, either because it is no longer referenced or because the program is exiting.\n",
        "\n",
        " Breakdown of its significance:\n",
        "\n",
        "1. Resource Cleanup:\n",
        "The primary purpose of __del__ is to release any resources held by an object. This includes closing open files, releasing network connections, or freeing memory that was allocated outside Python's garbage collection.\n",
        "\n",
        "2. Garbage Collection:\n",
        "Python's garbage collector manages memory automatically. When an object is no longer referenced, the garbage collector reclaims its memory. The __del__ method is called during this process, just before the object is removed from memory.\n",
        "\n",
        "3. Unpredictable Timing:\n",
        "It's important to note that the exact timing of when __del__ is called is unpredictable. This is because the garbage collector runs periodically and may not be triggered immediately when an object becomes unreferenced.\n",
        "\n",
        "4. Not for General Deletion:\n",
        "The __del__ method is not for deleting objects in general. The del keyword in Python reduces the reference count of an object, and the object will be garbage collected when its reference count reaches zero."
      ],
      "metadata": {
        "id": "09rzzSbEHlNo"
      }
    },
    {
      "cell_type": "markdown",
      "source": [
        "22. What is the difference between @staticmethod and @classmethod in Python?"
      ],
      "metadata": {
        "id": "3N2j-cRFIMWh"
      }
    },
    {
      "cell_type": "markdown",
      "source": [
        "In Python, both @staticmethod and @classmethod are decorators used to define methods within a class, but they differ in how they interact with the class and its instances.\n",
        "\n",
        "Difference Between:\n",
        "\n",
        "1. @staticmethod:\n",
        "\n",
        "(A).A static method is a function that belongs to the class but does not have access to the instance (self) or the class itself (cls).\n",
        "\n",
        "(B).It is essentially a regular function that is placed within the class's scope for organizational purposes.\n",
        "\n",
        "(C).Static methods cannot modify the state of an object or class.\n",
        "\n",
        "(D).They are often used for utility functions that are related to the class but don't require access to its specific attributes.\n",
        "\n",
        "2. @classmethod:\n",
        "\n",
        "(A).A class method is a method that receives the class itself (cls) as the first argument, instead of the instance (self).\n",
        "\n",
        "(B).It has access to the class's attributes and can modify them.\n",
        "\n",
        "(C).Class methods are often used to create factory methods, which are alternative ways to create instances of the class.\n",
        "\n",
        "(D).They can be used to modify class-level data or perform operations that are relevant to the class as a whole."
      ],
      "metadata": {
        "id": "8FNL8bL3IU-J"
      }
    },
    {
      "cell_type": "markdown",
      "source": [
        "23. How does polymorphism work in Python with inheritance?"
      ],
      "metadata": {
        "id": "ZO3PhCApJLFg"
      }
    },
    {
      "cell_type": "markdown",
      "source": [
        "Polymorphism, meaning \"many forms,\" allows objects of different classes to respond to the same method call in their own specific way. In Python, this is commonly achieved through inheritance and method overriding.\n",
        "\n",
        "Inheritance: A child class inherits attributes and methods from a parent class. This establishes an \"is-a\" relationship (e.g., a Dog \"is an\" Animal).\n",
        "\n",
        "Method Overriding: A child class can provide its own implementation of a method that is already defined in its parent class. This is how polymorphism is achieved, as the same method name can have different behaviors depending on the object's class.\n",
        "\n",
        "How it works:\n",
        "\n",
        "1. A base class defines a method.\n",
        "2. Subclasses inherit this method but can override it with their own version.\n",
        "3. When the method is called on an object, Python determines the object's class and executes the appropriate method version (either the parent's or the child's overridden version)."
      ],
      "metadata": {
        "id": "hHZe-D2EJRLh"
      }
    },
    {
      "cell_type": "markdown",
      "source": [
        "24. What is method chaining in Python OOP?"
      ],
      "metadata": {
        "id": "NNyPu15GJzs2"
      }
    },
    {
      "cell_type": "markdown",
      "source": [
        "Method chaining in Python is a technique used in object-oriented programming (OOP) where multiple methods are called sequentially on the same object, one after the other, in a single line of code. This is achieved by having each method in the chain return the object instance itself (self). This allows the next method to be called directly on the result of the previous one.\n",
        "\n",
        "How it works:\n",
        "\n",
        "1. Returning self:\n",
        "Each method in a chain is designed to return self (the current instance of the object) after performing its operation.\n",
        "\n",
        "2. Sequential calls:\n",
        "Because each method returns the object, the next method can be called directly on the returned object using the dot operator (.).\n",
        "\n",
        "3. Fluent interface:\n",
        "This creates a \"fluent interface\" where the code reads like a sequence of actions performed on the object."
      ],
      "metadata": {
        "id": "br5Lg7FUJ3UG"
      }
    },
    {
      "cell_type": "markdown",
      "source": [
        "25. What is the purpose of the __call__ method in Python?"
      ],
      "metadata": {
        "id": "u8Fid6cpKVmE"
      }
    },
    {
      "cell_type": "markdown",
      "source": [
        "The __call__ method in Python allows instances of a class to be called as if they were functions. When an instance of a class is called using parentheses, Python automatically invokes the __call__ method defined within that class. This allows objects to behave like functions, providing a way to encapsulate specific behaviors or states.\n",
        "\n",
        "Breakdown of its purpose:\n",
        "\n",
        "1. Callable Objects:\n",
        "The primary purpose of __call__ is to make objects callable. This means that you can use parentheses () with an object to execute code defined within the __call__ method.\n",
        "\n",
        "2. Function-Like Behavior:\n",
        "By defining __call__, you can provide custom behavior when an object is called. This can be used to create objects that act like functions, allowing for more flexible and dynamic code.\n",
        "\n",
        "3. State Preservation:\n",
        "Unlike regular functions, objects with __call__ can retain state information within their instance variables. This enables them to perform operations based on their internal state, making them suitable for tasks that require context or memory.\n",
        "\n",
        "4. Customizable Logic:\n",
        "You can implement any logic you need within the __call__ method, allowing you to tailor the behavior of your callable objects to specific requirements.\n",
        "\n",
        "5. Flexibility and Reusability:\n",
        "The __call__ method promotes flexible code design by allowing objects to be used in various scenarios where a function-like interface is needed. It can also enhance code reusability by encapsulating logic within callable objects.\n"
      ],
      "metadata": {
        "id": "AQoJQ6DKKaBU"
      }
    },
    {
      "cell_type": "markdown",
      "source": [
        "# OOPS Assignment(Practical)"
      ],
      "metadata": {
        "id": "vDnPZksJWsek"
      }
    },
    {
      "cell_type": "markdown",
      "source": [
        "1. Create a parent class Animal with a method speak() that prints a generic message. Create a child class Dog that overrides the speak() method to print \"Bark!\"."
      ],
      "metadata": {
        "id": "oORYvlZHWzMx"
      }
    },
    {
      "cell_type": "code",
      "source": [
        " # Parent Class\n",
        " class Animal:\n",
        "    def speak(self):\n",
        "        print(\"This animal makes a sound.\")\n",
        "\n",
        " # Child Class\n",
        " class Dog(Animal):\n",
        "    def speak(self):\n",
        "        print(\"Bark\")\n",
        "\n",
        " #Testing the classes\n",
        " a = Animal()\n",
        " a.speak()\n",
        "\n",
        " d = Dog()\n",
        " d.speak()"
      ],
      "metadata": {
        "colab": {
          "base_uri": "https://localhost:8080/"
        },
        "id": "BtGzojpxXCQf",
        "outputId": "46c8bb94-c079-4ae4-cd3f-6cefe738d0ef"
      },
      "execution_count": null,
      "outputs": [
        {
          "output_type": "stream",
          "name": "stdout",
          "text": [
            "This animal makes a sound.\n",
            "Bark\n"
          ]
        }
      ]
    },
    {
      "cell_type": "markdown",
      "source": [
        "2. Write a program to create an abstract class Shape with a method area(). Derive classes Circle and Rectangle from it and implement the area() method in both."
      ],
      "metadata": {
        "id": "FORSwVzCdruh"
      }
    },
    {
      "cell_type": "code",
      "source": [
        " from abc import ABC, abstractmethod\n",
        " import math\n",
        "\n",
        "# Abstract class\n",
        "class Shape(ABC):\n",
        "    @abstractmethod\n",
        "    def area(self):\n",
        "        pass\n",
        "\n",
        "# Derived class: Circle\n",
        "class Circle(Shape):\n",
        "    def __init__(self, radius):\n",
        "      self.radius = radius\n",
        "\n",
        "    def area(self):\n",
        "        return math.pi * self.radius ** 2\n",
        "\n",
        "# Derived class: Rectangle\n",
        "class Rectangle(Shape):\n",
        "    def __init__(self, length, width):\n",
        "        self.length = length\n",
        "        self.width = width\n",
        "\n",
        "    def area(self):\n",
        "        return self.length * self.width\n",
        "\n",
        "# Testing the classes\n",
        "c = Circle(5)\n",
        "print(\"Area of Circle:\", c.area())\n",
        "\n",
        "r = Rectangle(4, 6)\n",
        "print(\"Area of Rectangle:\", r.area())"
      ],
      "metadata": {
        "colab": {
          "base_uri": "https://localhost:8080/"
        },
        "id": "jP_ALgh1d1Y5",
        "outputId": "9ec1e768-fbdf-4279-e435-7a76a12cca5d"
      },
      "execution_count": null,
      "outputs": [
        {
          "output_type": "stream",
          "name": "stdout",
          "text": [
            "Area of Circle: 78.53981633974483\n",
            "Area of Rectangle: 24\n"
          ]
        }
      ]
    },
    {
      "cell_type": "markdown",
      "source": [
        "3. Implement a multi-level inheritance scenario where a class Vehicle has an attribute type. Derive a class Car and further derive a class ElectricCar that adds a battery attribute."
      ],
      "metadata": {
        "id": "SKnfRvy_hMaQ"
      }
    },
    {
      "cell_type": "code",
      "source": [
        "# Base class\n",
        "class Vehicle:\n",
        "    def __init__(self, vehicle_type):\n",
        "        self.vehicle_type = vehicle_type\n",
        "\n",
        "# Derived class\n",
        "class Car(Vehicle):\n",
        "    def __init__(self, car_type):\n",
        "        super().__init__(\"Car\")\n",
        "        self.car_type = car_type\n",
        "\n",
        "# Further derived class\n",
        "class ElectricCar(Car):\n",
        "    def __init__(self, car_type, battery_capacity):\n",
        "        super().__init__(car_type)\n",
        "        self.battery_capacity = battery_capacity\n",
        "# Base class\n",
        "class Vehicle:\n",
        "    def __init__(self, vehicle_type):\n",
        "        self.vehicle_type = vehicle_type\n",
        "\n",
        "# Derived class\n",
        "class Car(Vehicle):\n",
        "    def __init__(self, car_type):\n",
        "        super().__init__(\"Car\")\n",
        "        self.car_type = car_type\n",
        "\n",
        "# Further derived class\n",
        "class ElectricCar(Car):\n",
        "    def __init__(self, car_type, battery_capacity):\n",
        "        super().__init__(car_type)\n",
        "        self.battery_capacity = battery_capacity\n",
        "\n",
        "# Testing the classes\n",
        "e_car = ElectricCar(\"Sedan\", \"75 kwh\")\n",
        "print(\"Vehicle Type:\", e_car.vehicle_type)\n",
        "print(\"Car Type:\", e_car.car_type)\n",
        "print(\"Battery Capacity:\", e_car.battery_capacity, \"kWh\")"
      ],
      "metadata": {
        "colab": {
          "base_uri": "https://localhost:8080/"
        },
        "id": "eSjVH_o5hS65",
        "outputId": "bf3dd06c-cd88-4c96-e7aa-547c63353423"
      },
      "execution_count": null,
      "outputs": [
        {
          "output_type": "stream",
          "name": "stdout",
          "text": [
            "Vehicle Type: Car\n",
            "Car Type: Sedan\n",
            "Battery Capacity: 75 kwh kWh\n"
          ]
        }
      ]
    },
    {
      "cell_type": "markdown",
      "source": [
        "4. Demonstrate polymorphism by creating a base class Bird with a method fly(). Create two derived classes Sparrow and Penguin that override the fly() method.\n"
      ],
      "metadata": {
        "id": "_C7J5yW_kmXC"
      }
    },
    {
      "cell_type": "code",
      "source": [
        "#Base class\n",
        "class Bird:\n",
        "    def fly(self):\n",
        "        print(\"This bird can fly.\")\n",
        "\n",
        "#Derived class Sparrow\n",
        "class Sparrow(Bird):\n",
        "    def fly(self):\n",
        "        print(\"Sparrow flies high in the sky\")\n",
        "\n",
        "#Derived class Penguin\n",
        "class Penguin(Bird):\n",
        "    def fly(self):\n",
        "        print(\"Penguin cannot fly, they swim\")\n",
        "\n",
        "#Testing polymorphism\n",
        "def bird_fly(bird):\n",
        "    bird.fly()\n",
        "\n",
        "# Create objects\n",
        "sparrow = Sparrow()\n",
        "penguin = Penguin()\n",
        "\n",
        "#Use polymorphism\n",
        "bird_fly(sparrow)\n",
        "bird_fly(penguin)\n"
      ],
      "metadata": {
        "colab": {
          "base_uri": "https://localhost:8080/"
        },
        "id": "0LHdq6hmkuKx",
        "outputId": "2f8d537c-a763-4191-bad3-04a3bfd7f1b8"
      },
      "execution_count": null,
      "outputs": [
        {
          "output_type": "stream",
          "name": "stdout",
          "text": [
            "Sparrow flies high in the sky\n",
            "Penguin cannot fly, they swim\n"
          ]
        }
      ]
    },
    {
      "cell_type": "markdown",
      "source": [
        "5. Write a program to demonstrate encapsulation by creating a class BankAccount with private attributes balance and methods to deposit, withdraw, and check balance."
      ],
      "metadata": {
        "id": "z1FVVGJMoxwp"
      }
    },
    {
      "cell_type": "code",
      "source": [
        "class BankAccount:\n",
        "    def __init__(self, initial_balance=0):\n",
        "        self.__balance = initial_balance  # private attribute\n",
        "\n",
        "    def deposit(self, amount):\n",
        "        if amount > 0:\n",
        "            self.__balance += amount\n",
        "            print(f\"Deposited ${amount}. New balance: ${self.__balance}\")\n",
        "        else:\n",
        "            print(\"Invalid deposit amount. Amount must be greater than 0.\")\n",
        "\n",
        "    def withdraw(self, amount):\n",
        "        if 0 < amount <= self.__balance:\n",
        "            self.__balance -= amount\n",
        "            print(f\"Withdrew ${amount}. New balance: ${self.__balance}\")\n",
        "        else:\n",
        "            print(\"Invalid withdrawal amount or insufficient balance.\")\n",
        "\n",
        "    def check_balance(self):\n",
        "        print(f\"Current balance: ${self.__balance}\")\n",
        "\n",
        "# Testing the class\n",
        "acc = BankAccount(100)\n",
        "acc.deposit(50)\n",
        "acc.withdraw(100)\n",
        "acc.check_balance()"
      ],
      "metadata": {
        "colab": {
          "base_uri": "https://localhost:8080/"
        },
        "id": "V4j5FOXJo5Jy",
        "outputId": "4d835444-6db3-45e7-df7f-e03545b42589"
      },
      "execution_count": null,
      "outputs": [
        {
          "output_type": "stream",
          "name": "stdout",
          "text": [
            "Deposited $50. New balance: $150\n",
            "Withdrew $100. New balance: $50\n",
            "Current balance: $50\n"
          ]
        }
      ]
    },
    {
      "cell_type": "markdown",
      "source": [
        "6. Demonstrate runtime polymorphism using a method play() in a base class Instrument. Derive classes Guitar and Piano that implement their own version of play()."
      ],
      "metadata": {
        "id": "Ixu1fnDS3HgL"
      }
    },
    {
      "cell_type": "code",
      "source": [
        "# Base class\n",
        "class Instrument:\n",
        "    def play(self):\n",
        "        print(\"Playing an instrument.\")\n",
        "\n",
        "# Derived class: Guitar\n",
        "class Guitar(Instrument):\n",
        "    def play(self):\n",
        "        print(\"Playing a guitar.\")\n",
        "\n",
        "# Derived class: Piano\n",
        "class Piano(Instrument):\n",
        "    def play(self):\n",
        "        print(\"Playing a piano.\")\n",
        "\n",
        "#Runtime polymorphism\n",
        "def perform(instrument):\n",
        "    instrument.play()\n",
        "\n",
        "# Testing\n",
        "g = Guitar()\n",
        "p = Piano()\n",
        "\n",
        "perform(g)\n",
        "perform(p)"
      ],
      "metadata": {
        "colab": {
          "base_uri": "https://localhost:8080/"
        },
        "id": "TeSLhf3C3VSE",
        "outputId": "a22a75ec-aac7-4372-e70a-2e48363c48c4"
      },
      "execution_count": null,
      "outputs": [
        {
          "output_type": "stream",
          "name": "stdout",
          "text": [
            "Playing a guitar.\n",
            "Playing a piano.\n"
          ]
        }
      ]
    },
    {
      "cell_type": "markdown",
      "source": [
        "7. Create a class MathOperations with a class method add_numbers() to add two numbers and a static method subtract_numbers() to subtract two numbers."
      ],
      "metadata": {
        "id": "S5xEFWMK4v3y"
      }
    },
    {
      "cell_type": "code",
      "source": [
        "class MathOperations:\n",
        "    @classmethod\n",
        "    def add_numbers(cls, a, b):\n",
        "        return a + b\n",
        "\n",
        "    @staticmethod\n",
        "    def subtract_numbers(a, b):\n",
        "        return a - b\n",
        "\n",
        "# Testing the methods\n",
        "print(\"Addition:\", MathOperations.add_numbers(5, 3))\n",
        "print(\"Subtraction:\", MathOperations.subtract_numbers(10, 4))"
      ],
      "metadata": {
        "colab": {
          "base_uri": "https://localhost:8080/"
        },
        "id": "JyFJ8zHI421a",
        "outputId": "c4d60053-1816-4870-de68-9366224ec339"
      },
      "execution_count": null,
      "outputs": [
        {
          "output_type": "stream",
          "name": "stdout",
          "text": [
            "Addition: 8\n",
            "Subtraction: 6\n"
          ]
        }
      ]
    },
    {
      "cell_type": "markdown",
      "source": [
        "8. Implement a class Person with a class method to count the total number of persons created."
      ],
      "metadata": {
        "id": "CG4ZAR7N5w3D"
      }
    },
    {
      "cell_type": "code",
      "source": [
        "class Person:\n",
        "    count = 0              # Class variable to keep track of number of persons\n",
        "\n",
        "    def __init__(self, name):\n",
        "        self.name = name\n",
        "        Person.count += 1  #Increment count every time a person is created\n",
        "\n",
        "    @classmethod\n",
        "    def get_total_persons(cls):\n",
        "        return cls.count\n",
        "\n",
        "#Creating some Person instances\n",
        "p1 = Person(\"Vijay\")\n",
        "p2 = Person(\"Sohan\")\n",
        "p3 = Person(\"Abhinav\")\n",
        "\n",
        "# Checking the total numbers of persons created\n",
        "print(\"Total persons created:\", Person.get_total_persons())\n",
        "\n"
      ],
      "metadata": {
        "colab": {
          "base_uri": "https://localhost:8080/"
        },
        "id": "GrG7HXN-53nb",
        "outputId": "0e6986ea-a189-4418-8f38-68c835ef237c"
      },
      "execution_count": null,
      "outputs": [
        {
          "output_type": "stream",
          "name": "stdout",
          "text": [
            "Total persons created: 3\n"
          ]
        }
      ]
    },
    {
      "cell_type": "markdown",
      "source": [
        "9. Write a class Fraction with attributes numerator and denominator. Override the str method to display the fraction as \"numerator/denominator\"."
      ],
      "metadata": {
        "id": "h03WDgXa7mEM"
      }
    },
    {
      "cell_type": "code",
      "source": [
        "class Fraction:\n",
        "    def __init__(self, numerator, denominator):\n",
        "        self.numerator = numerator\n",
        "        self.denominator = denominator\n",
        "\n",
        "    def __str__(self):\n",
        "        return f\"{self.numerator}/{self.denominator}\"\n",
        "\n",
        "#Tseting the class\n",
        "f1 = Fraction(3, 4)\n",
        "f2 = Fraction(7, 2)\n",
        "\n",
        "print(f1)\n",
        "print(f2)"
      ],
      "metadata": {
        "colab": {
          "base_uri": "https://localhost:8080/"
        },
        "id": "UbR7ZbPm7sC7",
        "outputId": "2ce1ad4b-73d3-4a17-b163-2cd3eb30a675"
      },
      "execution_count": null,
      "outputs": [
        {
          "output_type": "stream",
          "name": "stdout",
          "text": [
            "3/4\n",
            "7/2\n"
          ]
        }
      ]
    },
    {
      "cell_type": "markdown",
      "source": [
        "10. Demonstrate operator overloading by creating a class Vector and overriding the add method to add two vectors."
      ],
      "metadata": {
        "id": "qRQKKkvXbhE5"
      }
    },
    {
      "cell_type": "code",
      "source": [
        "class Vector:\n",
        "    def __init__(self, x, y):\n",
        "        self.x = x\n",
        "        self.y = y\n",
        "\n",
        "    def __add__(self, other):\n",
        "      # Adding corresponding x and y componenets of two vectors\n",
        "      return Vector(self.x + other.x, self.y + other.y)\n",
        "\n",
        "    def __str__(self):\n",
        "       return f\"Vector({self.x}, {self.y})\"\n",
        "\n",
        "# Testing the class\n",
        "v1 = Vector(3, 4)\n",
        "v2 = Vector(1, 2)\n",
        "\n",
        "v3 = v1 + v2\n",
        "print(v3)"
      ],
      "metadata": {
        "colab": {
          "base_uri": "https://localhost:8080/"
        },
        "id": "yE_dpZbubozp",
        "outputId": "9462ec58-2a57-49ef-90b2-33e937b9c2b7"
      },
      "execution_count": null,
      "outputs": [
        {
          "output_type": "stream",
          "name": "stdout",
          "text": [
            "Vector(4, 6)\n"
          ]
        }
      ]
    },
    {
      "cell_type": "markdown",
      "source": [
        "11. Create a class Person with attributes name and age. Add a method greet() that prints \"Hello, my name is {name} and I am {age} years old.\"\n",
        "\n",
        "\n"
      ],
      "metadata": {
        "id": "-yQ728Yfd6pG"
      }
    },
    {
      "cell_type": "code",
      "source": [
        "class Person:\n",
        "    def __init__(self, name, age):\n",
        "        self.name = name\n",
        "        self.age = age\n",
        "\n",
        "    def greet(self):\n",
        "        print(f\"Hello, my name is {self.name} and I am {self.age} years old.\")\n",
        "p = Person(\"Abhinav\", 25)\n",
        "p.greet()"
      ],
      "metadata": {
        "colab": {
          "base_uri": "https://localhost:8080/"
        },
        "id": "CvHN1JW6eELn",
        "outputId": "e730c238-1b87-4eb8-c57b-a52c2f595783"
      },
      "execution_count": null,
      "outputs": [
        {
          "output_type": "stream",
          "name": "stdout",
          "text": [
            "Hello, my name is Abhinav and I am 25 years old.\n"
          ]
        }
      ]
    },
    {
      "cell_type": "markdown",
      "source": [
        "12. Implement a class Student with attributes name and grades. Create a method average_grade() to compute the average of the grades."
      ],
      "metadata": {
        "id": "ILY7FETGhOKU"
      }
    },
    {
      "cell_type": "code",
      "source": [
        "class Student:\n",
        "    def __init__(self, name, grades):\n",
        "        self.name = name\n",
        "        self.grades = grades  # Expecting the list of numeric grades\n",
        "\n",
        "    def average_grade(self):\n",
        "        if not self.grades:\n",
        "            return 0\n",
        "        return sum(self.grades) / len(self.grades)\n",
        "s = Student(\"Shyam\", [85, 90, 78, 92])\n",
        "print(f\"{s.name}'s average grade is {s.average_grade()}\")"
      ],
      "metadata": {
        "colab": {
          "base_uri": "https://localhost:8080/"
        },
        "id": "_257-VJQhUX1",
        "outputId": "d24041f5-330f-4418-873a-2ad5426311e4"
      },
      "execution_count": null,
      "outputs": [
        {
          "output_type": "stream",
          "name": "stdout",
          "text": [
            "Shyam's average grade is 86.25\n"
          ]
        }
      ]
    },
    {
      "cell_type": "markdown",
      "source": [
        "13. Create a class Rectangle with methods set_dimensions() to set the dimensions and area() to calculate the area."
      ],
      "metadata": {
        "id": "c_Wur-nYjoZC"
      }
    },
    {
      "cell_type": "code",
      "source": [
        "class Rectangle:\n",
        "    def __init__(self):\n",
        "        self.length = 0\n",
        "        self.width = 0\n",
        "\n",
        "    def set_dimensions(self, length, width):\n",
        "      self.length = length\n",
        "      self.width = width\n",
        "\n",
        "    def area(self):\n",
        "      return self.length * self.width\n",
        "r = Rectangle()\n",
        "r.set_dimensions(5, 3)\n",
        "print(f\"The area of the rectangle is {r.area()}\")"
      ],
      "metadata": {
        "colab": {
          "base_uri": "https://localhost:8080/"
        },
        "id": "MUYhdprnjtdN",
        "outputId": "e944fb84-1968-4183-8e26-85731ab43143"
      },
      "execution_count": null,
      "outputs": [
        {
          "output_type": "stream",
          "name": "stdout",
          "text": [
            "The area of the rectangle is 15\n"
          ]
        }
      ]
    },
    {
      "cell_type": "markdown",
      "source": [
        "14. Create a class Employee with a method calculate_salary() that computes the salary based on hours worked and hourly rate. Create a derived class Manager that adds a bonus to the salary."
      ],
      "metadata": {
        "id": "Yli3GFtGhdup"
      }
    },
    {
      "cell_type": "code",
      "source": [
        "# Base class\n",
        "class Employee:\n",
        "    def __init__(self, name, hours_worked, hourly_rate):\n",
        "        self.name = name\n",
        "        self.hours_worked = hours_worked\n",
        "        self.hourly_rate = hourly_rate\n",
        "\n",
        "    def calculate_salary(self):\n",
        "        return self.hours_worked * self.hourly_rate\n",
        "\n",
        "# Derived class\n",
        "class Manager(Employee):\n",
        "     def __init__(self, name, hours_worked, hourly_rate, bonus):\n",
        "      super().__init__(name, hours_worked, hourly_rate)\n",
        "      self.bonus = bonus\n",
        "\n",
        "     def calculate_salary(self):\n",
        "         base_salary = super().calculate_salary()\n",
        "         return base_salary + self.bonus\n",
        "\n",
        "# Testing the class\n",
        "emp = Employee(\"Rishabh\", 40, 20)\n",
        "print(f\"Employee Salary: ${emp.calculate_salary()}\")\n",
        "\n",
        "mgr = Manager(\"Rohit\", 40, 30, 1000)\n",
        "print(f\"Manager Salary: ${mgr.calculate_salary()}\")"
      ],
      "metadata": {
        "colab": {
          "base_uri": "https://localhost:8080/"
        },
        "id": "-kAiS1rthjx5",
        "outputId": "e997fcd7-8ef4-4c4b-c418-ee29cc3558b0"
      },
      "execution_count": null,
      "outputs": [
        {
          "output_type": "stream",
          "name": "stdout",
          "text": [
            "Employee Salary: $800\n",
            "Manager Salary: $2200\n"
          ]
        }
      ]
    },
    {
      "cell_type": "markdown",
      "source": [
        "15. Create a class Product with attributes name, price, and quantity. Implement a method total_price() that calculates the total price of the product."
      ],
      "metadata": {
        "id": "voRpp9xBZ5kW"
      }
    },
    {
      "cell_type": "code",
      "source": [
        "class Product:\n",
        "    def __init__(self, name, price, quantity):\n",
        "        self.name = name\n",
        "        self.price = price\n",
        "        self.quantity = quantity\n",
        "\n",
        "    def total_price(self):\n",
        "        return self.price * self.quantity\n",
        "\n",
        "product1 = product(\"Laptop\", 1200, 2)\n",
        "print(f\"Total price for {product1.name}: ${product1.total_price()}\")"
      ],
      "metadata": {
        "colab": {
          "base_uri": "https://localhost:8080/"
        },
        "id": "VTTJoHmxZ_IY",
        "outputId": "1e5d8a5b-c5b0-4527-d275-f6d7b2f6c9ea"
      },
      "execution_count": null,
      "outputs": [
        {
          "output_type": "stream",
          "name": "stdout",
          "text": [
            "Total price for Laptop: $2400\n"
          ]
        }
      ]
    },
    {
      "cell_type": "markdown",
      "source": [
        "16. Create a class Animal with an abstract method sound(). Create two derived classes Cow and Sheep that implement the sound() method."
      ],
      "metadata": {
        "id": "4WOcCbj6ccT2"
      }
    },
    {
      "cell_type": "code",
      "source": [
        "from abc import ABC, abstractmethod\n",
        "\n",
        "# Abstract base class\n",
        "class Animal(ABC):\n",
        "    @abstractmethod\n",
        "    def sound(self):\n",
        "        pass\n",
        "\n",
        "# Derived class: Cow\n",
        "class Cow(Animal):\n",
        "    def sound(self):\n",
        "        return \"Moo\"\n",
        "\n",
        "# Derived class: Sheep\n",
        "class Sheep(Animal):\n",
        "    def sound(self):\n",
        "        return \"Baaa\"\n",
        "\n",
        "# Testing the classes\n",
        "cow = Cow()\n",
        "sheep = Sheep()\n",
        "\n",
        "print(\"Cow says:\", cow.sound())\n",
        "print(\"Sheep says:\", sheep.sound())"
      ],
      "metadata": {
        "colab": {
          "base_uri": "https://localhost:8080/"
        },
        "id": "4_oLwG5_cj6x",
        "outputId": "042362fc-48a9-4324-c76d-7ad8c2ac86b9"
      },
      "execution_count": null,
      "outputs": [
        {
          "output_type": "stream",
          "name": "stdout",
          "text": [
            "Cow says: Moo\n",
            "Sheep says: Baaa\n"
          ]
        }
      ]
    },
    {
      "cell_type": "markdown",
      "source": [
        "17. Create a class Book with attributes title, author, and year_published. Add a method get_book_info() that returns a formatted string with the book's details."
      ],
      "metadata": {
        "id": "aI7qFBO9dzXq"
      }
    },
    {
      "cell_type": "code",
      "source": [
        "class Book:\n",
        "    def __init__(self, title, author, year_published):\n",
        "        self.title = title\n",
        "        self.author = author\n",
        "        self.year_published = year_published\n",
        "\n",
        "    def get_book_info(self):\n",
        "        return f\"'{self.title}' by {self.author}, Published in {self.year_published}\"\n",
        "\n",
        "# Testing the class\n",
        "book1 = Book(\"To kill a Mockingbird\", \"Harper Lee\", 1960)\n",
        "print(book1.get_book_info())\n"
      ],
      "metadata": {
        "colab": {
          "base_uri": "https://localhost:8080/"
        },
        "id": "Ro6ZvQ2Ud47s",
        "outputId": "3c134bd2-d657-46ac-b949-1ad10d4b3027"
      },
      "execution_count": null,
      "outputs": [
        {
          "output_type": "stream",
          "name": "stdout",
          "text": [
            "'To kill a Mockingbird' by Harper Lee, Published in 1960\n"
          ]
        }
      ]
    },
    {
      "cell_type": "markdown",
      "source": [
        "18. Create a class House with attributes address and price. Create a derived class Mansion that adds an attribute number_of_rooms."
      ],
      "metadata": {
        "id": "aiXSrDc3gRri"
      }
    },
    {
      "cell_type": "code",
      "source": [
        "# Base class\n",
        "class House:\n",
        "    def __init__(self, address, price):\n",
        "        self.address = address\n",
        "        self.price = price\n",
        "\n",
        "# Derived class\n",
        "class Mansion(House):\n",
        "    def __init__(self, address, price, number_of_rooms):\n",
        "        super().__init__(address, price)\n",
        "        self.number_of_rooms = number_of_rooms\n",
        "\n",
        "# Testing the class\n",
        "mansion = Mansion(\"123 Main St\", 250000, 8)\n",
        "print(f\"Mansion Located at {mansion.address} costs ${mansion.price} and has {mansion.number_of_rooms} rooms.\")"
      ],
      "metadata": {
        "colab": {
          "base_uri": "https://localhost:8080/"
        },
        "id": "Ay70mG_cgd1a",
        "outputId": "c40b299b-005e-4a6e-c12d-cdaff3cef103"
      },
      "execution_count": null,
      "outputs": [
        {
          "output_type": "stream",
          "name": "stdout",
          "text": [
            "Mansion Located at 123 Main St costs $250000 and has 8 rooms.\n"
          ]
        }
      ]
    }
  ]
}